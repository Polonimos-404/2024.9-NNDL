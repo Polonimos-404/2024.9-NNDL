{
 "cells": [
  {
   "cell_type": "code",
   "id": "initial_id",
   "metadata": {
    "collapsed": true,
    "ExecuteTime": {
     "end_time": "2024-11-30T14:54:50.112897Z",
     "start_time": "2024-11-30T14:54:50.098261Z"
    }
   },
   "source": [
    "import os\n",
    "import string\n",
    "\n",
    "\n",
    "DATA_DIR = 'D:/dev/datasets/NLP/areas_nlp_corpora_names'\n",
    "\n",
    "# 所有可能的字符集合\n",
    "ENG_LETTERS = string.ascii_letters + \" .,;'-\"\n",
    "LETTER_COUNT = len(ENG_LETTERS) + 1     # 还需要考虑结束符EOS\n",
    "\n",
    "CATEGORY_COUNT = 2\n",
    "\n",
    "# 读取一个文件中的所有行\n",
    "def read_lines(filename):\n",
    "    with open(filename, encoding='utf-8') as some_file:\n",
    "        return [line.strip() for line in some_file]\n",
    "\n",
    "categories = ['male', 'female']\n",
    "category_lines = {}\n",
    "  \n",
    "for category in categories:\n",
    "    category_lines[category] = read_lines(os.path.join(DATA_DIR, f'{category}.txt'))[6:]\n",
    "\n",
    "if len(category_lines) == 0:\n",
    "    raise RuntimeError('Data not found. Make sure that you downloaded data to the directory.')"
   ],
   "outputs": [],
   "execution_count": 1
  },
  {
   "metadata": {
    "ExecuteTime": {
     "end_time": "2024-11-30T14:54:56.132131Z",
     "start_time": "2024-11-30T14:54:53.221793Z"
    }
   },
   "cell_type": "code",
   "source": [
    "import torch\n",
    "\n",
    "\n",
    "# 类别编码\n",
    "def get_category_tensor(category):\n",
    "    return torch.tensor([[0] if category[0] == 'm' else [1]])\n",
    "\n",
    "# 对单个字符采取one_hot编码\n",
    "def letter_to_index(letter):\n",
    "    return ENG_LETTERS.find(letter)\n",
    "\n",
    "# 定义名字中第一个到最后一个字母（不含EOF）为输入，并编码为one-hot向量\n",
    "def get_input_tensor(line):\n",
    "    size = len(line)\n",
    "    res = torch.zeros(size, 1, LETTER_COUNT)\n",
    "    for i in range(size):\n",
    "        letter = line[i]\n",
    "        res[i][0][letter_to_index(letter)] = 1\n",
    "    return res\n",
    "\n",
    "# 定义名字中第二个到最后一个字母加上EOF为输出，并编码为在ENG_LETTERS上的序号（EOF标记为LETTER_COUNT - 1）\n",
    "def get_target_tensor(line: str):\n",
    "    res = [letter_to_index(line[i]) for i in range(1, len(line))]\n",
    "    res.append(LETTER_COUNT - 1)    # EOS\n",
    "    return torch.LongTensor(res)"
   ],
   "id": "dd831903ba1f1e86",
   "outputs": [],
   "execution_count": 2
  },
  {
   "metadata": {
    "ExecuteTime": {
     "end_time": "2024-11-30T14:54:58.769981Z",
     "start_time": "2024-11-30T14:54:58.761438Z"
    }
   },
   "cell_type": "code",
   "source": [
    "# 模型定义\n",
    "from torch import nn\n",
    "\n",
    "\n",
    "class My_RNN(nn.Module):\n",
    "    def __init__(self, input_size, hidden_size, output_size):\n",
    "        super(My_RNN, self).__init__()\n",
    "        \n",
    "        self.hidden_size = hidden_size\n",
    "        \n",
    "        self.i2h = nn.Linear(1 + input_size + hidden_size, hidden_size)\n",
    "        self.i2o = nn.Linear(1 + input_size + hidden_size, output_size)\n",
    "        self.o2o = nn.Linear(hidden_size + output_size, output_size)\n",
    "        self.dropout = nn.Dropout(0.1)\n",
    "        self.softmax = nn.LogSoftmax(dim=1)\n",
    "\n",
    "    def forward(self, category, input, hidden):\n",
    "        input_combined = torch.cat((category, input, hidden), 1)\n",
    "        hidden = self.i2h(input_combined)\n",
    "        output = self.i2o(input_combined)\n",
    "        \n",
    "        output_combined = torch.cat((hidden, output), 1)\n",
    "        output = self.o2o(output_combined)\n",
    "        output = self.dropout(output)\n",
    "        output = self.softmax(output)\n",
    "        return output, hidden\n",
    "\n",
    "    def init_hidden(self):\n",
    "        return torch.zeros(1, self.hidden_size)"
   ],
   "id": "179f09def7302d9e",
   "outputs": [],
   "execution_count": 3
  },
  {
   "metadata": {
    "ExecuteTime": {
     "end_time": "2024-11-30T11:58:11.005620Z",
     "start_time": "2024-11-30T11:58:10.992318Z"
    }
   },
   "cell_type": "code",
   "source": [
    "import random\n",
    "\n",
    "\n",
    "# 从数据集中随机采样一条数据及其类别\n",
    "def random_training_example():\n",
    "    category = random.choice(categories)\n",
    "    line = random.choice(category_lines[category])\n",
    "    category_tensor = get_category_tensor(category)\n",
    "    input_line_tensor = get_input_tensor(line)\n",
    "    target_line_tensor = get_target_tensor(line)\n",
    "    return category_tensor, input_line_tensor, target_line_tensor"
   ],
   "id": "81271ec360088730",
   "outputs": [],
   "execution_count": 4
  },
  {
   "metadata": {
    "ExecuteTime": {
     "end_time": "2024-11-30T14:55:03.185315Z",
     "start_time": "2024-11-30T14:55:03.159804Z"
    }
   },
   "cell_type": "code",
   "source": [
    "# 模型训练\n",
    "model = My_RNN(LETTER_COUNT, 128, LETTER_COUNT)\n",
    "\n",
    "criterion = nn.NLLLoss()\n",
    "learning_rate = 3e-4\n",
    "\n",
    "def train(category_tensor, input_line_tensor, target_line_tensor):    \n",
    "    target_line_tensor.unsqueeze_(-1)\n",
    "    hidden = model.init_hidden()\n",
    "\n",
    "    model.zero_grad()\n",
    "\n",
    "    loss = torch.Tensor([0])\n",
    "\n",
    "    for i in range(input_line_tensor.size(0)):\n",
    "        output, hidden = model(category_tensor, input_line_tensor[i], hidden)\n",
    "        l = criterion(output, target_line_tensor[i])\n",
    "        loss += l\n",
    "\n",
    "    loss.backward()\n",
    "\n",
    "    for p in model.parameters():\n",
    "        p.data.add_(p.grad.data, alpha=-learning_rate)\n",
    "\n",
    "    return output, loss.item() / input_line_tensor.size(0)"
   ],
   "id": "bee61e218ec2e1c1",
   "outputs": [],
   "execution_count": 4
  },
  {
   "metadata": {
    "ExecuteTime": {
     "end_time": "2024-11-30T11:58:14.313733Z",
     "start_time": "2024-11-30T11:58:14.309049Z"
    }
   },
   "cell_type": "code",
   "source": [
    "import time\n",
    "import math\n",
    "\n",
    "# 用于打印训练时间\n",
    "def timer(start):\n",
    "    now = time.time()\n",
    "    s = now - start\n",
    "    m = math.floor(s / 60)\n",
    "    s -= m * 60\n",
    "    return f'{m}m {s:d}s'"
   ],
   "id": "4b683b1c8f457292",
   "outputs": [],
   "execution_count": 6
  },
  {
   "metadata": {
    "ExecuteTime": {
     "end_time": "2024-11-30T12:15:02.504029Z",
     "start_time": "2024-11-30T12:11:01.410082Z"
    }
   },
   "cell_type": "code",
   "source": [
    "iters_num = 100000\n",
    "print_every = 5000      # 进度打印步进\n",
    "plot_every = 500        # 平均损失记录步进\n",
    "all_losses = []\n",
    "average_loss = 0\n",
    "\n",
    "start = time.time()\n",
    "\n",
    "for it in range(1, iters_num + 1):\n",
    "    _, loss = train(*random_training_example())\n",
    "    average_loss += loss\n",
    "    \n",
    "    # 每隔5000次迭代输出一条进度消息\n",
    "    if it % print_every == 0:\n",
    "        print(f'{timer(start)} ({it} {(it / iters_num * 100):.1f}%) {loss:.4f}')\n",
    "    \n",
    "    # 每隔500次迭代记录一条平均损失\n",
    "    if it % plot_every == 0:\n",
    "        all_losses.append(average_loss / plot_every)\n",
    "        average_loss = 0"
   ],
   "id": "4c610f56d1df049c",
   "outputs": [
    {
     "name": "stdout",
     "output_type": "stream",
     "text": [
      "0m 12.309578657150269s (5000 5.0%) 3.5156\n",
      "0m 24.304199934005737s (10000 10.0%) 2.7305\n",
      "0m 36.33287501335144s (15000 15.0%) 2.6762\n",
      "0m 48.30807685852051s (20000 20.0%) 2.6743\n",
      "1m 0.2724878787994385s (25000 25.0%) 2.5980\n",
      "1m 12.314504146575928s (30000 30.0%) 2.5171\n",
      "1m 24.31574535369873s (35000 35.0%) 2.7197\n",
      "1m 36.250728368759155s (40000 40.0%) 2.2245\n",
      "1m 48.28818988800049s (45000 45.0%) 2.6760\n",
      "2m 0.2303166389465332s (50000 50.0%) 2.1399\n",
      "2m 12.199409484863281s (55000 55.0%) 1.9734\n",
      "2m 24.126017332077026s (60000 60.0%) 2.7420\n",
      "2m 36.112340688705444s (65000 65.0%) 2.7475\n",
      "2m 48.12141466140747s (70000 70.0%) 2.5350\n",
      "3m 0.12208890914916992s (75000 75.0%) 2.5472\n",
      "3m 12.061032772064209s (80000 80.0%) 2.2865\n",
      "3m 24.919144868850708s (85000 85.0%) 2.8546\n",
      "3m 37.01332187652588s (90000 90.0%) 3.3292\n",
      "3m 48.99662113189697s (95000 95.0%) 2.5122\n",
      "4m 1.0854244232177734s (100000 100.0%) 2.4303\n"
     ]
    }
   ],
   "execution_count": 12
  },
  {
   "metadata": {
    "ExecuteTime": {
     "end_time": "2024-11-30T12:15:07.761142Z",
     "start_time": "2024-11-30T12:15:07.623577Z"
    }
   },
   "cell_type": "code",
   "source": [
    "import matplotlib.pyplot as plt\n",
    "\n",
    "plt.figure()\n",
    "plt.plot(all_losses)"
   ],
   "id": "9e7c7911d5d48b70",
   "outputs": [
    {
     "data": {
      "text/plain": [
       "[<matplotlib.lines.Line2D at 0x1ed4c3e8550>]"
      ]
     },
     "execution_count": 13,
     "metadata": {},
     "output_type": "execute_result"
    },
    {
     "data": {
      "text/plain": [
       "<Figure size 640x480 with 1 Axes>"
      ],
      "image/png": "[encoded data removed]"
     },
     "metadata": {},
     "output_type": "display_data"
    }
   ],
   "execution_count": 13
  },
  {
   "metadata": {
    "ExecuteTime": {
     "end_time": "2024-11-30T14:55:10.496429Z",
     "start_time": "2024-11-30T14:55:10.481313Z"
    }
   },
   "cell_type": "code",
   "source": [
    "torch.save(model.state_dict(), 'name_generator_rnn.pth')\n",
    "\n",
    "# 模型推理\n",
    "model.load_state_dict(torch.load('name_generator_rnn.pth', weights_only=True))\n",
    "model.eval()"
   ],
   "id": "35f6afb772328d4b",
   "outputs": [
    {
     "data": {
      "text/plain": [
       "My_RNN(\n",
       "  (i2h): Linear(in_features=188, out_features=128, bias=True)\n",
       "  (i2o): Linear(in_features=188, out_features=59, bias=True)\n",
       "  (o2o): Linear(in_features=187, out_features=59, bias=True)\n",
       "  (dropout): Dropout(p=0.1, inplace=False)\n",
       "  (softmax): LogSoftmax(dim=1)\n",
       ")"
      ]
     },
     "execution_count": 5,
     "metadata": {},
     "output_type": "execute_result"
    }
   ],
   "execution_count": 5
  },
  {
   "metadata": {
    "ExecuteTime": {
     "end_time": "2024-11-30T15:49:56.459867Z",
     "start_time": "2024-11-30T15:49:54.385139Z"
    }
   },
   "cell_type": "code",
   "source": [
    "# 由输出获取下一时刻出现概率最大的五个字符对应的索引及概率\n",
    "def find_top_five_letters(output: torch.Tensor):\n",
    "    output = output.flatten().tolist()\n",
    "    indexed_output = list(enumerate(output))\n",
    "    sorted_output = sorted(indexed_output, key=lambda x: x[1], reverse=True)\n",
    "    top_five = sorted_output[:5]\n",
    "    return top_five\n",
    "\n",
    "\n",
    "from graphviz import Digraph\n",
    "\n",
    "# 每一时刻前五个候选字符及对应概率的缓存；按照时刻（行）由先到后，概率（列）由高到低排列\n",
    "top_five_cache = []\n",
    "\n",
    "# 按索引从字符表中获取字符\n",
    "def idx_ltr(idx: int):\n",
    "    if idx < LETTER_COUNT - 1:\n",
    "        return ENG_LETTERS[idx]\n",
    "    else:\n",
    "        return '[EOS]'\n",
    "\n",
    "# 名字生成可视化图的构建和绘制\n",
    "def plot_graph(filename, prefix='A'):\n",
    "    g = Digraph(\n",
    "    \tformat='png',\n",
    "        engine='dot',\n",
    "        node_attr={\n",
    "            'shape': 'oval',\n",
    "            'fontname': 'SimHei'\n",
    "        },\n",
    "        edge_attr={'arrowhead': 'normal'},\n",
    "    )\n",
    "    \n",
    "    # 前缀部分的构建\n",
    "    last = None     # 上一个前缀字符对应节点的标识\n",
    "    pre_size = len(prefix)      # 前缀长度\n",
    "    for i in range(pre_size):\n",
    "        if last is not None:    # 边标签'X'表示是用户输入的前缀\n",
    "            g.edge(last, prefix[i], label='X')\n",
    "        for j in range(5):\n",
    "            ltr = idx_ltr(top_five_cache[i][j][0])\n",
    "            prob = top_five_cache[i][j][1]\n",
    "            g.edge(prefix[i], ltr + f'({prob:.4f})', label='P')     # 'P'表示是模型推理出的可能字符；如果和'X'存在重叠，'P'的优先级更高\n",
    "        last = prefix[i]\n",
    "    \n",
    "    # 找到前缀最后一个字符之后出现可能性最大的字符的信息\n",
    "    ltr = idx_ltr(top_five_cache[pre_size - 1][0][0])\n",
    "    prob = top_five_cache[pre_size - 1][0][1]\n",
    "    last = ltr + f'({prob:.4f})'\n",
    "    # 构建模型推理的字符相关信息\n",
    "    for i in range(pre_size, len(top_five_cache)):\n",
    "        for j in range(5):\n",
    "            ltr = idx_ltr(top_five_cache[i][j][0])\n",
    "            prob = top_five_cache[i][j][1]\n",
    "            name = ltr + f'({prob:.4f})'\n",
    "            if j == 0:  # 标记每一时刻可能性最大的字符，便于下一时刻的绘图\n",
    "                lb = 'T'\n",
    "                fir = name\n",
    "            else:\n",
    "                lb = 'P'\n",
    "            g.edge(last, name, lb)\n",
    "        last = fir\n",
    "    g.render(filename, format='png', cleanup=True)\n",
    "    g.view()\n",
    "    del g\n",
    "        \n",
    "# 根据输入类别（男/女性）、前缀字符自动生成姓名\n",
    "def predict(catagory, prefix='A'):\n",
    "    with torch.no_grad():\n",
    "        catagory_tensor = get_category_tensor(catagory)\n",
    "        input_prefix_tensor = get_input_tensor(prefix)\n",
    "        hidden = model.init_hidden()\n",
    "        \n",
    "        # 首先根据前缀（输入的字母）推算前缀各个字母输入后时刻的前5个候选字母\n",
    "        for i in range(len(prefix)):\n",
    "            output, hidden = model(catagory_tensor, input_prefix_tensor[i], hidden)\n",
    "            top_five_cache.append(find_top_five_letters(output))\n",
    "            \n",
    "        # 找到前缀最后一位字母输入后的第一可能候选字母\n",
    "        next_idx = top_five_cache[-1][0][0]\n",
    "        res = []\n",
    "        while next_idx != LETTER_COUNT - 1:\n",
    "            next_letter = ENG_LETTERS[next_idx]\n",
    "            res.append(next_letter)\n",
    "            input_letter_tensor = get_input_tensor(next_letter)[0]\n",
    "            output, hidden = model(catagory_tensor, input_letter_tensor, hidden)\n",
    "            top_five = find_top_five_letters(output)\n",
    "            top_five_cache.append(top_five)\n",
    "            next_idx = top_five[0][0]\n",
    "        \n",
    "    plot_graph(catagory + '_' + prefix ,prefix)\n",
    "    return prefix + ''.join(res)\n",
    "\n",
    "# print(predict('male', 'T'))\n",
    "# print(predict('female', 'No'))\n",
    "# print(predict('male', 'No'))\n",
    "# print(predict('male', 'Los'))\n",
    "print(predict('female', 'Bel'))"
   ],
   "id": "e851dff625b81295",
   "outputs": [
    {
     "name": "stdout",
     "output_type": "stream",
     "text": [
      "Bellie\n"
     ]
    }
   ],
   "execution_count": 22
  },
  {
   "metadata": {
    "ExecuteTime": {
     "end_time": "2024-11-30T15:12:30.984647Z",
     "start_time": "2024-11-30T15:12:28.701422Z"
    }
   },
   "cell_type": "code",
   "source": "print(predict('female', 'T'))",
   "id": "fa3e3275e2a82e3",
   "outputs": [
    {
     "name": "stdout",
     "output_type": "stream",
     "text": [
      "Tarie\n"
     ]
    }
   ],
   "execution_count": 16
  },
  {
   "metadata": {},
   "cell_type": "code",
   "outputs": [],
   "execution_count": null,
   "source": "",
   "id": "118a10aaaa0e940a"
  }
 ],
 "metadata": {
  "kernelspec": {
   "display_name": "Python 3",
   "language": "python",
   "name": "python3"
  },
  "language_info": {
   "codemirror_mode": {
    "name": "ipython",
    "version": 2
   },
   "file_extension": ".py",
   "mimetype": "text/x-python",
   "name": "python",
   "nbconvert_exporter": "python",
   "pygments_lexer": "ipython2",
   "version": "2.7.6"
  }
 },
 "nbformat": 4,
 "nbformat_minor": 5
}
